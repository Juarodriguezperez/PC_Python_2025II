{
  "cells": [
    {
      "cell_type": "markdown",
      "metadata": {
        "id": "view-in-github",
        "colab_type": "text"
      },
      "source": [
        "<a href=\"https://colab.research.google.com/github/Juarodriguezperez/PC_Python_2025II/blob/main/clase_3/python_condicionales.ipynb\" target=\"_parent\"><img src=\"https://colab.research.google.com/assets/colab-badge.svg\" alt=\"Open In Colab\"/></a>"
      ]
    },
    {
      "cell_type": "markdown",
      "metadata": {
        "id": "bGFj5Tx4egKo"
      },
      "source": [
        "# Programación de Computadores en Python\n",
        "## Condicionales y lógica en Python\n",
        "#### Universidad Nacional de Colombia\n",
        "---\n",
        "**Objetivo:** Aprender a utilizar expresiones booleanas, operadores relacionales y lógicos, así como estructuras condicionales simples, anidadas y encadenadas.\n",
        "\n",
        "### 📑 Contenido\n",
        "1. Expresiones booleanas\n",
        "2. Operadores relacionales\n",
        "3. Operadores lógicos\n",
        "4. Condicionales (`if-else`)\n",
        "5. Condicionales anidados y encadenados\n",
        "\n",
        "---\n",
        "💡 **Tip:** Recuerda que puedes ejecutar cada celda con `Shift + Enter` en Google Colab."
      ]
    },
    {
      "cell_type": "markdown",
      "metadata": {
        "id": "ikpEciOfegKw"
      },
      "source": [
        "## 1️⃣ Expresiones booleanas\n",
        "Una **expresión booleana** es una operación que siempre devuelve `True` (verdadero) o `False` (falso).\n",
        "\n",
        "Ejemplos comunes:\n",
        "- Comparar dos números.\n",
        "- Preguntar si un valor está en una lista.\n",
        "- Verificar si una condición se cumple."
      ]
    },
    {
      "cell_type": "code",
      "metadata": {
        "colab": {
          "base_uri": "https://localhost:8080/"
        },
        "id": "b7GL1kGsegKy",
        "outputId": "922a3fe5-96cd-42c8-8777-40f978104d35"
      },
      "source": [
        "# Ejemplos de expresiones booleanas\n",
        "print(5 > 3)    # True\n",
        "print(10 == 8)  # False\n",
        "print(\"a\" in \"python\")  # True"
      ],
      "execution_count": 1,
      "outputs": [
        {
          "output_type": "stream",
          "name": "stdout",
          "text": [
            "True\n",
            "False\n",
            "False\n"
          ]
        }
      ]
    },
    {
      "cell_type": "markdown",
      "source": [
        "### Conversión\n",
        "Todos los valores enteros y flotantes mayores o menores a cero se convierten a ``True``, mientras que los ceros (0, 0.0) a ``False``"
      ],
      "metadata": {
        "id": "9kLuj79lNBPK"
      }
    },
    {
      "cell_type": "code",
      "source": [
        "num = 125\n",
        "print(bool(num))"
      ],
      "metadata": {
        "id": "k8BQdY-1mZ6D",
        "colab": {
          "base_uri": "https://localhost:8080/"
        },
        "outputId": "72fbbda2-3c96-4b72-a58f-80a8d6975576"
      },
      "execution_count": null,
      "outputs": [
        {
          "output_type": "stream",
          "name": "stdout",
          "text": [
            "True\n"
          ]
        }
      ]
    },
    {
      "cell_type": "code",
      "source": [
        "num = -2.65\n",
        "print(bool(num))"
      ],
      "metadata": {
        "id": "D3D0Wfz3nc3c",
        "colab": {
          "base_uri": "https://localhost:8080/"
        },
        "outputId": "c3dbc5a1-d29b-4075-c523-89a30adb1ff4"
      },
      "execution_count": null,
      "outputs": [
        {
          "output_type": "stream",
          "name": "stdout",
          "text": [
            "True\n"
          ]
        }
      ]
    },
    {
      "cell_type": "code",
      "source": [
        "num = 0\n",
        "print(bool(num))"
      ],
      "metadata": {
        "id": "MlwWTKTvngYu",
        "colab": {
          "base_uri": "https://localhost:8080/"
        },
        "outputId": "160b770c-8d1c-46a1-c7ab-c17c4c277a9e"
      },
      "execution_count": null,
      "outputs": [
        {
          "output_type": "stream",
          "name": "stdout",
          "text": [
            "False\n"
          ]
        }
      ]
    },
    {
      "cell_type": "markdown",
      "source": [
        "Para convertir texto a booleano, cualquier texto será ``True`` pero si está vacío será ``False``"
      ],
      "metadata": {
        "id": "wOyHANN-NQ9S"
      }
    },
    {
      "cell_type": "code",
      "source": [
        "num = \"Hola\"\n",
        "print(bool(num))"
      ],
      "metadata": {
        "id": "1WZLsaw3ntr2",
        "colab": {
          "base_uri": "https://localhost:8080/"
        },
        "outputId": "39d02e72-48e4-47dd-b481-9a5902fbcfdd"
      },
      "execution_count": null,
      "outputs": [
        {
          "output_type": "stream",
          "name": "stdout",
          "text": [
            "True\n"
          ]
        }
      ]
    },
    {
      "cell_type": "code",
      "source": [
        "num = \"\"\n",
        "print(bool(num))"
      ],
      "metadata": {
        "id": "rPWJkSOlntr4",
        "colab": {
          "base_uri": "https://localhost:8080/"
        },
        "outputId": "486b5df6-48fc-479e-ca73-c7db227ce7e0"
      },
      "execution_count": null,
      "outputs": [
        {
          "output_type": "stream",
          "name": "stdout",
          "text": [
            "False\n"
          ]
        }
      ]
    },
    {
      "cell_type": "markdown",
      "metadata": {
        "id": "VAEFDiehegKz"
      },
      "source": [
        "### 📝 Ejercicio 1\n",
        "1. Verifica si el número 7 es mayor que 4.\n",
        "2. Comprueba si 12 es igual a 15.\n",
        "3. Pregunta si la letra `x` está en la palabra `texto`."
      ]
    },
    {
      "cell_type": "code",
      "metadata": {
        "id": "kjpklh29egK0",
        "outputId": "03ad448f-6afd-4a4e-8ce6-8d61ff4b8508",
        "colab": {
          "base_uri": "https://localhost:8080/"
        }
      },
      "source": [
        "# Escribe tu código aquí\n",
        "print(7>4)\n",
        "print(12==15)\n",
        "print(\"x\" in \"texto\")"
      ],
      "execution_count": 2,
      "outputs": [
        {
          "output_type": "stream",
          "name": "stdout",
          "text": [
            "True\n",
            "False\n",
            "True\n"
          ]
        }
      ]
    },
    {
      "cell_type": "markdown",
      "metadata": {
        "id": "oYIH2J1NegK2"
      },
      "source": [
        "💡 **Curiosidad:** El nombre `booleano` viene de George Boole, matemático que desarrolló la lógica algebraica que se usa en informática."
      ]
    },
    {
      "cell_type": "markdown",
      "metadata": {
        "id": "6Q6n0McZegK2"
      },
      "source": [
        "## 2️⃣ Operadores relacionales\n",
        "Los operadores relacionales comparan valores y devuelven `True` o `False`.\n",
        "\n",
        "| Operador | Significado |\n",
        "|----------|-------------|\n",
        "| `==`     | Igual a |\n",
        "| `!=`     | Distinto de |\n",
        "| `>`      | Mayor que |\n",
        "| `<`      | Menor que |\n",
        "| `>=`     | Mayor o igual que |\n",
        "| `<=`     | Menor o igual que |"
      ]
    },
    {
      "cell_type": "code",
      "metadata": {
        "colab": {
          "base_uri": "https://localhost:8080/"
        },
        "id": "OUjR08ccegK3",
        "outputId": "37688e10-0f05-4be8-9c36-d47d00e6e5c3"
      },
      "source": [
        "# Ejemplo de operadores relacionales\n",
        "x = 10\n",
        "y = 5\n",
        "\n",
        "print(x == y)\n",
        "print(x != y)\n",
        "print(x > y)\n",
        "print(x < y)\n",
        "print(x >= y)\n",
        "print(x <= y)"
      ],
      "execution_count": null,
      "outputs": [
        {
          "output_type": "stream",
          "name": "stdout",
          "text": [
            "False\n",
            "True\n",
            "True\n",
            "False\n",
            "True\n",
            "False\n"
          ]
        }
      ]
    },
    {
      "cell_type": "markdown",
      "metadata": {
        "id": "36cM6V7CegK3"
      },
      "source": [
        "### 📝 Ejercicio 2\n",
        "1. Crea dos variables con números enteros.\n",
        "2. Usa cada uno de los operadores relacionales para compararlos.\n",
        "3. Imprime el resultado de cada comparación."
      ]
    },
    {
      "cell_type": "code",
      "metadata": {
        "id": "3VzwfuL9egK4"
      },
      "source": [
        "# Escribe tu código aquí\n"
      ],
      "execution_count": null,
      "outputs": []
    },
    {
      "cell_type": "markdown",
      "metadata": {
        "id": "oBEAJKKoegK5"
      },
      "source": [
        "💡 **Tip:** Los operadores relacionales son muy útiles en condicionales y bucles."
      ]
    },
    {
      "cell_type": "markdown",
      "metadata": {
        "id": "IAT3RfvpegK5"
      },
      "source": [
        "## 3️⃣ Operadores lógicos\n",
        "Se utilizan para combinar expresiones booleanas.\n",
        "\n",
        "| Operador | Significado | Ejemplo |\n",
        "|----------|-------------|---------|\n",
        "| `and`    | Verdadero si ambas condiciones son verdaderas | `(5 > 2) and (3 < 4)` → True |\n",
        "| `or`     | Verdadero si al menos una condición es verdadera | `(5 > 2) or (3 > 5)` → True |\n",
        "| `not`    | Niega el valor de la expresión | `not(5 > 2)` → False |"
      ]
    },
    {
      "cell_type": "code",
      "metadata": {
        "colab": {
          "base_uri": "https://localhost:8080/"
        },
        "id": "f_Bv-UxXegK6",
        "outputId": "c332a182-67fb-4de1-baac-bcaa37c95c72"
      },
      "source": [
        "# Ejemplo de operadores lógicos\n",
        "a = 8\n",
        "print(a > 5 and a < 10)  # True\n",
        "print(a > 10 or a == 8)  # True\n",
        "print(not (a == 8))      # False"
      ],
      "execution_count": null,
      "outputs": [
        {
          "output_type": "stream",
          "name": "stdout",
          "text": [
            "True\n",
            "True\n",
            "False\n"
          ]
        }
      ]
    },
    {
      "cell_type": "markdown",
      "source": [
        "### and\n",
        "El operador `and` resulta verdadero cuando los dos operandos son verdaderos.\n",
        "\n",
        "| a | b | a and b |\n",
        "| --- | --- | --- |\n",
        "| False | False | False |\n",
        "| False | True | False |\n",
        "| True | False | False |\n",
        "| True | True | True |"
      ],
      "metadata": {
        "id": "CGP1kgpFOCPS"
      }
    },
    {
      "cell_type": "code",
      "source": [
        "x = 2\n",
        "y = 7"
      ],
      "metadata": {
        "id": "Vz3LES0Eg__J"
      },
      "execution_count": null,
      "outputs": []
    },
    {
      "cell_type": "code",
      "source": [
        "# Ambas verdaderas\n",
        "x < y and x <= y"
      ],
      "metadata": {
        "colab": {
          "base_uri": "https://localhost:8080/"
        },
        "id": "HrvaVGqmN7nu",
        "outputId": "87279374-cc43-4d69-af02-f751e969ec74"
      },
      "execution_count": null,
      "outputs": [
        {
          "output_type": "execute_result",
          "data": {
            "text/plain": [
              "True"
            ]
          },
          "metadata": {},
          "execution_count": 24
        }
      ]
    },
    {
      "cell_type": "code",
      "source": [
        "# Solo una verdadera\n",
        "x < y and x > y"
      ],
      "metadata": {
        "colab": {
          "base_uri": "https://localhost:8080/"
        },
        "id": "t8YBv3AbOAlu",
        "outputId": "a20991a8-e1ea-40ac-a81b-63843b9a87a5"
      },
      "execution_count": null,
      "outputs": [
        {
          "output_type": "execute_result",
          "data": {
            "text/plain": [
              "False"
            ]
          },
          "metadata": {},
          "execution_count": 25
        }
      ]
    },
    {
      "cell_type": "code",
      "source": [
        "# Ambas falsas\n",
        "x == y and x > y"
      ],
      "metadata": {
        "colab": {
          "base_uri": "https://localhost:8080/"
        },
        "id": "rwp3j7qwOGXc",
        "outputId": "2352fa26-6422-4f73-d476-5a8530a5d7c9"
      },
      "execution_count": null,
      "outputs": [
        {
          "output_type": "execute_result",
          "data": {
            "text/plain": [
              "False"
            ]
          },
          "metadata": {},
          "execution_count": 26
        }
      ]
    },
    {
      "cell_type": "markdown",
      "source": [
        "### or\n",
        "Una operación **`or`** solo es falsa si los dos operandos son falsos:\n",
        "\n",
        "| a | b | a or b |\n",
        "| --- | --- | ---: |\n",
        "| False | False | False |\n",
        "| False | True | True |\n",
        "| True | False | True |\n",
        "| True | True | True |"
      ],
      "metadata": {
        "id": "3Em_kfRmOYJ3"
      }
    },
    {
      "cell_type": "code",
      "source": [
        "x = 2\n",
        "y = 7"
      ],
      "metadata": {
        "id": "axjxvZasOo_l"
      },
      "execution_count": null,
      "outputs": []
    },
    {
      "cell_type": "code",
      "source": [
        "# Ambas verdaderas\n",
        "x < y or x <= y"
      ],
      "metadata": {
        "colab": {
          "base_uri": "https://localhost:8080/"
        },
        "id": "e72C5wufB6ur",
        "outputId": "b95be41d-3a4c-4955-de64-7797bf93494c"
      },
      "execution_count": null,
      "outputs": [
        {
          "output_type": "execute_result",
          "data": {
            "text/plain": [
              "True"
            ]
          },
          "metadata": {},
          "execution_count": 28
        }
      ]
    },
    {
      "cell_type": "code",
      "source": [
        "# Solo una verdadera\n",
        "x < y or x > y"
      ],
      "metadata": {
        "colab": {
          "base_uri": "https://localhost:8080/"
        },
        "id": "IMFn06epObTm",
        "outputId": "9e954ded-c7a1-47cc-d916-6cb1924d744a"
      },
      "execution_count": null,
      "outputs": [
        {
          "output_type": "execute_result",
          "data": {
            "text/plain": [
              "True"
            ]
          },
          "metadata": {},
          "execution_count": 29
        }
      ]
    },
    {
      "cell_type": "code",
      "source": [
        "# Ambas falsas\n",
        "x == y or x > y"
      ],
      "metadata": {
        "colab": {
          "base_uri": "https://localhost:8080/"
        },
        "id": "j6lyFBgnObZl",
        "outputId": "ea7b7daa-d345-4087-f626-eca3a392fd90"
      },
      "execution_count": null,
      "outputs": [
        {
          "output_type": "execute_result",
          "data": {
            "text/plain": [
              "False"
            ]
          },
          "metadata": {},
          "execution_count": 31
        }
      ]
    },
    {
      "cell_type": "markdown",
      "source": [
        "### not\n",
        "| a | not a |\n",
        "| --- | ---: |\n",
        "| False | True |\n",
        "| True | False |"
      ],
      "metadata": {
        "id": "R5nLaT1ZOf2-"
      }
    },
    {
      "cell_type": "code",
      "source": [
        "x = 2\n",
        "y = 7"
      ],
      "metadata": {
        "id": "KVhxBXjEOqHH"
      },
      "execution_count": null,
      "outputs": []
    },
    {
      "cell_type": "code",
      "source": [
        "not x < y"
      ],
      "metadata": {
        "colab": {
          "base_uri": "https://localhost:8080/"
        },
        "id": "Hx3-fjXFB62d",
        "outputId": "8a17363c-5d9e-4ca8-affd-fa8e33f5c9e5"
      },
      "execution_count": null,
      "outputs": [
        {
          "output_type": "execute_result",
          "data": {
            "text/plain": [
              "False"
            ]
          },
          "metadata": {},
          "execution_count": 33
        }
      ]
    },
    {
      "cell_type": "code",
      "source": [
        "not x > y"
      ],
      "metadata": {
        "colab": {
          "base_uri": "https://localhost:8080/"
        },
        "id": "2cxH1aYgOmeX",
        "outputId": "892735a3-17eb-42a2-9e8f-f1c6cd9bbcd3"
      },
      "execution_count": null,
      "outputs": [
        {
          "output_type": "execute_result",
          "data": {
            "text/plain": [
              "True"
            ]
          },
          "metadata": {},
          "execution_count": 34
        }
      ]
    },
    {
      "cell_type": "markdown",
      "metadata": {
        "id": "Zzl3c0e5egK6"
      },
      "source": [
        "### 📝 Ejercicio 3\n",
        "1. Define una variable con un número.\n",
        "2. Comprueba si el número está entre 1 y 100 usando `and`.\n",
        "3. Verifica si el número es menor que 0 o mayor que 50 usando `or`.\n",
        "4. Niega una condición usando `not`."
      ]
    },
    {
      "cell_type": "code",
      "metadata": {
        "id": "oEynLL0eegK7"
      },
      "source": [
        "# Escribe tu código aquí\n"
      ],
      "execution_count": null,
      "outputs": []
    },
    {
      "cell_type": "markdown",
      "metadata": {
        "id": "wUAM1cM8egK7"
      },
      "source": [
        "### Precedencia operaciones\n",
        "La ejecución de las operaciones se da según el nivel de precedencia. Cuando hay dos o más operaciones del mismo nivel, se realizan de izquierda a derecha. Para la exponenciación es de derecha a izquierda.\n",
        "\n",
        "| Tipo                     | Operador          | Precedencia |\n",
        "|-------------------------:|------------------:|------------:|\n",
        "| Paréntesis               | ()                | 1           |\n",
        "| Exponenciación           | **                | 2           |\n",
        "| Cambio de signo          | - +               | 3           |\n",
        "| Multiplicación           | *                 | 4           |\n",
        "| División                 | /                 | 4           |\n",
        "| División entera          | //                | 4           |\n",
        "| Módulo (o resto)         | %                 | 4           |\n",
        "| Suma                     | +                 | 5           |\n",
        "| Relacional               | ==,!=,>=,<=,>,<   | 6           |\n",
        "| Lógico                   | not               | 7           |\n",
        "| Lógico                   | and               | 8           |\n",
        "| Lógico                   | or                | 9           |"
      ]
    },
    {
      "cell_type": "code",
      "source": [
        "x = 2\n",
        "y = 13"
      ],
      "metadata": {
        "id": "-B2mTOrvQhLF"
      },
      "execution_count": null,
      "outputs": []
    },
    {
      "cell_type": "code",
      "source": [
        "x * 2 >= 8 and y - 3 <= 2"
      ],
      "metadata": {
        "colab": {
          "base_uri": "https://localhost:8080/"
        },
        "id": "vtDVryh_hDJO",
        "outputId": "d0128c1b-a45a-414c-d55f-442c1a924a71"
      },
      "execution_count": null,
      "outputs": [
        {
          "output_type": "execute_result",
          "data": {
            "text/plain": [
              "False"
            ]
          },
          "metadata": {},
          "execution_count": 36
        }
      ]
    },
    {
      "cell_type": "code",
      "source": [
        "((x * 2) >= 8) and ((y - 3) <= 2)"
      ],
      "metadata": {
        "colab": {
          "base_uri": "https://localhost:8080/"
        },
        "id": "i9vsXeSiQkwJ",
        "outputId": "3382646f-535f-4d83-9b11-3fd130e6227e"
      },
      "execution_count": null,
      "outputs": [
        {
          "output_type": "execute_result",
          "data": {
            "text/plain": [
              "False"
            ]
          },
          "metadata": {},
          "execution_count": 37
        }
      ]
    },
    {
      "cell_type": "markdown",
      "metadata": {
        "id": "nMuROOU3egK7"
      },
      "source": [
        "## 4️⃣ Condicionales (if-else)\n",
        "Las estructuras condicionales permiten que un programa tome decisiones dependiendo de una condición.\n",
        "\n",
        "**Sintaxis:**\n",
        "```python\n",
        "if condicion:\n",
        "    # código si es verdadero\n",
        "else:\n",
        "    # código si es falso\n",
        "```\n",
        "\n",
        "* `if` es la forma más sencilla, pero una ejecución alterna es aquella que considera dos posibilidades, en donde la condición determina cuál se ejecuta. Para eso usamos `else`.\n",
        "* Si omitimos el `else` y existen instrucciones debajo del `if`, serán ejecutadas sin importar si se cumple la condición."
      ]
    },
    {
      "cell_type": "code",
      "metadata": {
        "colab": {
          "base_uri": "https://localhost:8080/"
        },
        "id": "A0ZYkgDCegK7",
        "outputId": "cac6d36b-a0e8-4f53-83e1-4968bf2da5f3"
      },
      "source": [
        "# Ejemplo de condicional if-else\n",
        "edad = 18\n",
        "if edad >= 18:\n",
        "    print(\"Eres mayor de edad\")\n",
        "else:\n",
        "    print(\"Eres menor de edad\")"
      ],
      "execution_count": null,
      "outputs": [
        {
          "output_type": "stream",
          "name": "stdout",
          "text": [
            "Eres mayor de edad\n"
          ]
        }
      ]
    },
    {
      "cell_type": "markdown",
      "source": [
        "Una forma comprimida para evaluar `if else` es mediante el operador ternario."
      ],
      "metadata": {
        "id": "3fypTobtPR8M"
      }
    },
    {
      "cell_type": "code",
      "source": [
        "edad = 20\n",
        "print(\"Eres mayor de edad\" if edad >= 18 else \"Eres menor de edad\")"
      ],
      "metadata": {
        "id": "JTDFNEIPWFFf",
        "colab": {
          "base_uri": "https://localhost:8080/"
        },
        "outputId": "6176e9ea-4a0b-4c22-cabc-bcc982c575f1"
      },
      "execution_count": null,
      "outputs": [
        {
          "output_type": "stream",
          "name": "stdout",
          "text": [
            "Eres mayor de edad\n"
          ]
        }
      ]
    },
    {
      "cell_type": "markdown",
      "metadata": {
        "id": "gG5MrQ3oegK8"
      },
      "source": [
        "### 📝 Ejercicio 4\n",
        "1. Pide al usuario un número.\n",
        "2. Usa `if-else` para imprimir si el número es par o impar."
      ]
    },
    {
      "cell_type": "code",
      "metadata": {
        "id": "CsP8ZRP6egK8"
      },
      "source": [
        "# Escribe tu código aquí\n"
      ],
      "execution_count": null,
      "outputs": []
    },
    {
      "cell_type": "markdown",
      "metadata": {
        "id": "bXvJBMHaegK9"
      },
      "source": [
        "💡 **Tip:** Recuerda que la identación (espacios) es muy importante en Python. Un error común es no alinear correctamente el código."
      ]
    },
    {
      "cell_type": "markdown",
      "metadata": {
        "id": "cxFOQjF8egK_"
      },
      "source": [
        "## 5️⃣ Condicionales anidados y encadenados\n",
        "### 🔹 Condicionales anidados\n",
        "Un condicional dentro de otro.\n",
        "```python\n",
        "x = 10\n",
        "if x > 0:\n",
        "    if x % 2 == 0:\n",
        "        print(\"x es positivo y par\")\n",
        "    else:\n",
        "        print(\"x es positivo e impar\")\n",
        "```\n",
        "\n",
        "### 🔹 Condicionales encadenados (`elif`)\n",
        "Permiten evaluar múltiples condiciones.\n",
        "```python\n",
        "nota = 85\n",
        "if nota >= 90:\n",
        "    print(\"Excelente\")\n",
        "elif nota >= 70:\n",
        "    print(\"Aprobado\")\n",
        "else:\n",
        "    print(\"Reprobado\")\n",
        "```"
      ]
    },
    {
      "cell_type": "code",
      "metadata": {
        "colab": {
          "base_uri": "https://localhost:8080/"
        },
        "id": "kjRPYF32egK_",
        "outputId": "9d3cba40-7227-4858-f94e-ce9fe59bd9fb"
      },
      "source": [
        "# Ejemplo condicional anidado\n",
        "numero = 7\n",
        "if numero > 0:\n",
        "    if numero % 2 == 0:\n",
        "        print(\"El número es positivo y par\")\n",
        "    else:\n",
        "        print(\"El número es positivo e impar\")"
      ],
      "execution_count": null,
      "outputs": [
        {
          "output_type": "stream",
          "name": "stdout",
          "text": [
            "El número es positivo e impar\n"
          ]
        }
      ]
    },
    {
      "cell_type": "code",
      "metadata": {
        "colab": {
          "base_uri": "https://localhost:8080/"
        },
        "id": "7tz0zsLpegLA",
        "outputId": "b3640d06-9853-4b4c-cd12-45eeef09678d"
      },
      "source": [
        "# Ejemplo condicional encadenado\n",
        "nota = 65\n",
        "if nota >= 90:\n",
        "    print(\"Excelente\")\n",
        "elif nota >= 70:\n",
        "    print(\"Aprobado\")\n",
        "else:\n",
        "    print(\"Reprobado\")"
      ],
      "execution_count": null,
      "outputs": [
        {
          "output_type": "stream",
          "name": "stdout",
          "text": [
            "Reprobado\n"
          ]
        }
      ]
    },
    {
      "cell_type": "markdown",
      "metadata": {
        "id": "5qxkNfE7egLB"
      },
      "source": [
        "### 📝 Ejercicio 5\n",
        "1. Pide al usuario su calificación.\n",
        "2. Usa condicionales encadenados para mostrar:\n",
        "- `>=90`: Excelente\n",
        "- `70-89`: Aprobado\n",
        "- `<70`: Reprobado\n",
        "3. Extra: Usa un condicional anidado para verificar si la nota es positiva o negativa."
      ]
    },
    {
      "cell_type": "code",
      "metadata": {
        "id": "afbINcqxegLC"
      },
      "source": [
        "# Escribe tu código aquí\n"
      ],
      "execution_count": null,
      "outputs": []
    },
    {
      "cell_type": "markdown",
      "metadata": {
        "id": "9VUZ6oIpegLC"
      },
      "source": [
        "💡 **Dato curioso:** El uso de `elif` en Python lo diferencia de otros lenguajes como C o Java, donde se usa `else if`."
      ]
    },
    {
      "cell_type": "markdown",
      "source": [
        "## 🖊 Ejercicios"
      ],
      "metadata": {
        "id": "km61rJoLdWNS"
      }
    },
    {
      "cell_type": "markdown",
      "source": [
        "#### a) Evalúa y reporta el resultado de las siguientes expresiones:\n",
        "\n",
        "* 4 == 4\n",
        "* 5 != 5\n",
        "* 7 != 7.0\n",
        "* not 2<9"
      ],
      "metadata": {
        "id": "5gTr4F3CdZGK"
      }
    },
    {
      "cell_type": "code",
      "source": [
        "\"\"\"\n",
        "Aquí debajo escribe tu solución\n",
        "\"\"\"\n",
        "\n"
      ],
      "metadata": {
        "id": "6iPc1kvwdWNU"
      },
      "execution_count": null,
      "outputs": []
    },
    {
      "cell_type": "markdown",
      "source": [
        "#### b) Escribe las negaciones u opuestos lógicos de las siguentes condiciones, sin usar `not`:\n",
        "\n",
        "* a > b\n",
        "* a >= b\n",
        "* b >= 22 and dia == 3"
      ],
      "metadata": {
        "id": "zGhCRX6xdceS"
      }
    },
    {
      "cell_type": "code",
      "source": [
        "\"\"\"\n",
        "Aquí debajo escribe tu solución\n",
        "\"\"\"\n",
        "a = 2\n",
        "b = 7\n",
        "dia = 3\n"
      ],
      "metadata": {
        "id": "uDkH7eHedceV"
      },
      "execution_count": null,
      "outputs": []
    },
    {
      "cell_type": "markdown",
      "source": [
        "#### c) Escribe un programa que calcule el valor absoluto de un número flotante, sin usar la función `abs()` de Python."
      ],
      "metadata": {
        "id": "q8WCGzT-dcqF"
      }
    },
    {
      "cell_type": "code",
      "source": [
        "\"\"\"\n",
        "Aquí debajo escribe tu solución\n",
        "\"\"\"\n",
        "\n"
      ],
      "metadata": {
        "id": "YBQ9-VZKdcqH"
      },
      "execution_count": null,
      "outputs": []
    },
    {
      "cell_type": "markdown",
      "source": [
        "#### d) Escribe un programa que a partir de un número entero, determine si es el doble de un número impar. Por ejemplo 14 es el doble de 7."
      ],
      "metadata": {
        "id": "pLhVBSqkdczG"
      }
    },
    {
      "cell_type": "code",
      "source": [
        "\"\"\"\n",
        "Aquí debajo escribe tu solución\n",
        "\"\"\"\n",
        "\n"
      ],
      "metadata": {
        "id": "Neioq3U5dczH"
      },
      "execution_count": null,
      "outputs": []
    },
    {
      "cell_type": "markdown",
      "source": [
        "## 🎮Practica jugando\n",
        "[Blockly - Bird](https://https://blockly.games/bird?lang=en)"
      ],
      "metadata": {
        "id": "SBHQIg1pR9DX"
      }
    }
  ],
  "metadata": {
    "colab": {
      "provenance": [],
      "include_colab_link": true
    },
    "kernelspec": {
      "display_name": "Python 3",
      "language": "python",
      "name": "python3"
    },
    "language_info": {
      "name": "python"
    }
  },
  "nbformat": 4,
  "nbformat_minor": 0
}