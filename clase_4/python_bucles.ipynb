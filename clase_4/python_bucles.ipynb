{
  "cells": [
    {
      "cell_type": "markdown",
      "metadata": {
        "id": "view-in-github",
        "colab_type": "text"
      },
      "source": [
        "<a href=\"https://colab.research.google.com/github/Juarodriguezperez/PC_Python_2025II/blob/main/clase_4/python_bucles.ipynb\" target=\"_parent\"><img src=\"https://colab.research.google.com/assets/colab-badge.svg\" alt=\"Open In Colab\"/></a>"
      ]
    },
    {
      "cell_type": "markdown",
      "metadata": {
        "id": "tiSVynMSJOJl"
      },
      "source": [
        "# Curso de Programación de Computadores en Python\n",
        "## Bucles While y For, Bucles Anidados, Sentencias Break y Continue\n",
        "#### Universidad Nacional de Colombia\n",
        "---\n",
        "En esta sección aprenderás a manejar estructuras repetitivas en Python de forma clara, con ejemplos prácticos y ejercicios para poner en práctica lo aprendido.\n",
        "\n",
        "### **Contenido:**\n",
        "1. Bucles `while`\n",
        "2. Bucles `for`\n",
        "3. Bucles anidados\n",
        "4. Sentencias `break` y `continue`\n",
        "5. Ejercicios de práctica\n",
        "6. Tips y datos curiosos\n"
      ]
    },
    {
      "cell_type": "markdown",
      "metadata": {
        "id": "d7I5rXkEIgv2"
      },
      "source": [
        "## Introducción a los bucles\n",
        "Los bucles permiten ejecutar repetidamente un bloque de código mientras se cumpla una condición o durante un número determinado de iteraciones.\n",
        "\n",
        "**Tipos principales de bucles en Python:**\n",
        "- `while`: Repite mientras una condición sea verdadera.\n",
        "- `for`: Repite sobre una secuencia (lista, cadena, rango, etc.)."
      ]
    },
    {
      "cell_type": "markdown",
      "metadata": {
        "id": "ZQBh8tKjJOJn"
      },
      "source": [
        "## 1️⃣ Bucle **while**\n",
        "El bucle `while` repite un bloque de instrucciones **mientras** una condición sea verdadera.\n",
        "\n",
        "**Sintaxis:**\n",
        "```python\n",
        "while condición:\n",
        "    # Código a ejecutar\n",
        "```\n",
        "\n",
        "🔹 **Ejemplo:** Contar del 1 al 5.\n"
      ]
    },
    {
      "cell_type": "code",
      "metadata": {
        "colab": {
          "base_uri": "https://localhost:8080/"
        },
        "id": "xPTr2w0KJOJn",
        "outputId": "758fee59-19ec-4413-ec3d-7d83a08a982f"
      },
      "source": [
        "contador = 1\n",
        "while contador <= 5:\n",
        "    print(f\"Número: {contador}\")\n",
        "    contador += 1"
      ],
      "execution_count": null,
      "outputs": [
        {
          "output_type": "stream",
          "name": "stdout",
          "text": [
            "Número: 1\n",
            "Número: 2\n",
            "Número: 3\n",
            "Número: 4\n",
            "Número: 5\n"
          ]
        }
      ]
    },
    {
      "cell_type": "markdown",
      "metadata": {
        "id": "fwwER0trJOJo"
      },
      "source": [
        "**Ejercicio práctico:**\n",
        "Crea un programa que pida un número y sume todos los números desde 1 hasta ese número usando un bucle `while`.\n"
      ]
    },
    {
      "cell_type": "code",
      "metadata": {
        "id": "kjpklh29egK0"
      },
      "source": [
        "from os import replace\n",
        "# Escribe tu código aquí\n",
        "repeticiones = int(input())\n",
        "num = 1\n",
        "while num <= repeticiones:\n",
        "  repeticiones ++ num\n",
        "  num + 1\n",
        "  print(num)\n"
      ],
      "execution_count": null,
      "outputs": []
    },
    {
      "cell_type": "markdown",
      "metadata": {
        "id": "2Yc2RqoPJOJo"
      },
      "source": [
        "## 2️⃣ Bucle **for**\n",
        "El bucle `for` se usa para recorrer secuencias como listas, cadenas o rangos.\n",
        "\n",
        "**Sintaxis:**\n",
        "```python\n",
        "for variable in secuencia:\n",
        "    # Código a ejecutar\n",
        "```\n",
        "\n",
        "🔹 **Ejemplo:** Recorrer una lista de frutas.\n"
      ]
    },
    {
      "cell_type": "code",
      "metadata": {
        "colab": {
          "base_uri": "https://localhost:8080/"
        },
        "id": "bEg_tQ6eJOJp",
        "outputId": "88bf14b7-cb8a-4124-97ae-effd4acc6da1"
      },
      "source": [
        "frutas = [\"manzana\", \"pera\", \"uva\"]\n",
        "for fruta in frutas:\n",
        "    print(f\"Me gusta la {fruta}\")"
      ],
      "execution_count": null,
      "outputs": [
        {
          "output_type": "stream",
          "name": "stdout",
          "text": [
            "Me gusta la manzana\n",
            "Me gusta la pera\n",
            "Me gusta la uva\n"
          ]
        }
      ]
    },
    {
      "cell_type": "markdown",
      "source": [
        "### Función `range`\n",
        "La función `range` nos permite iterar entre dos valores numéricos mediante un bucle `for` y requiere entre uno y tres parámetros. Por ejemplo para imprimir 5 veces un mensaje:"
      ],
      "metadata": {
        "id": "i3QqNaTNBGD0"
      }
    },
    {
      "cell_type": "code",
      "source": [
        "for i in range(5):\n",
        "    print(\"holaa c:\")"
      ],
      "metadata": {
        "colab": {
          "base_uri": "https://localhost:8080/"
        },
        "id": "LrpL-iu6BO1b",
        "outputId": "ff250e58-e9ed-421b-8ef2-a761df52337f"
      },
      "execution_count": null,
      "outputs": [
        {
          "output_type": "stream",
          "name": "stdout",
          "text": [
            "holaa c:\n",
            "holaa c:\n",
            "holaa c:\n",
            "holaa c:\n",
            "holaa c:\n"
          ]
        }
      ]
    },
    {
      "cell_type": "markdown",
      "source": [
        "Y podemos ver los valores que toma la variable `i`:"
      ],
      "metadata": {
        "id": "jl3ubQxMBVqP"
      }
    },
    {
      "cell_type": "code",
      "source": [
        "for i in range(5):\n",
        "    print(i)"
      ],
      "metadata": {
        "colab": {
          "base_uri": "https://localhost:8080/"
        },
        "id": "VHDZuSyEBWrE",
        "outputId": "c60eff66-2cad-4754-96fa-c8902f2be156"
      },
      "execution_count": null,
      "outputs": [
        {
          "output_type": "stream",
          "name": "stdout",
          "text": [
            "0\n",
            "1\n",
            "2\n",
            "3\n",
            "4\n"
          ]
        }
      ]
    },
    {
      "cell_type": "markdown",
      "source": [
        "Pero al usar dos parámetros, podemos imprimir la misma cantidad pero entre dos números:"
      ],
      "metadata": {
        "id": "z5oTN0TEBaGF"
      }
    },
    {
      "cell_type": "code",
      "source": [
        "for i in range(5, 10):\n",
        "    print(i)"
      ],
      "metadata": {
        "colab": {
          "base_uri": "https://localhost:8080/"
        },
        "id": "9M76wIp3BfW2",
        "outputId": "3cf262f0-e727-4384-eb4d-9c99ea2ce331"
      },
      "execution_count": null,
      "outputs": [
        {
          "output_type": "stream",
          "name": "stdout",
          "text": [
            "5\n",
            "6\n",
            "7\n",
            "8\n",
            "9\n"
          ]
        }
      ]
    },
    {
      "cell_type": "markdown",
      "source": [
        "O que lo haga con determinado paso, en este caso cada 2 números:"
      ],
      "metadata": {
        "id": "TgcoB3FqBl3f"
      }
    },
    {
      "cell_type": "code",
      "source": [
        "for i in range(5, 15, 2):\n",
        "    print(i)"
      ],
      "metadata": {
        "colab": {
          "base_uri": "https://localhost:8080/"
        },
        "id": "wMaXxRlSBm2J",
        "outputId": "3399a10b-239d-47c1-aef2-3b0935e7ba49"
      },
      "execution_count": 6,
      "outputs": [
        {
          "output_type": "stream",
          "name": "stdout",
          "text": [
            "5\n",
            "7\n",
            "9\n",
            "11\n",
            "13\n"
          ]
        }
      ]
    },
    {
      "cell_type": "markdown",
      "source": [
        "* En resumen, la función requiere al menos el punto de inicio y opcionalmente el punto final y el paso: `range(inicio, fin, paso)`.\n",
        "* Pero recuerda, que en principio, el inicio debe ser mayor al fin, por lo que esto sería un error y nunca entraría al bucle:"
      ],
      "metadata": {
        "id": "lxqpA_YmBzNR"
      }
    },
    {
      "cell_type": "code",
      "source": [
        "for i in range(10, 5, -2):\n",
        "    print(i)"
      ],
      "metadata": {
        "id": "PaxCW4ZCB3fR",
        "colab": {
          "base_uri": "https://localhost:8080/"
        },
        "outputId": "99dce99e-2c0d-4daf-c480-2bda2fe3455e"
      },
      "execution_count": 8,
      "outputs": [
        {
          "output_type": "stream",
          "name": "stdout",
          "text": [
            "10\n",
            "8\n",
            "6\n"
          ]
        }
      ]
    },
    {
      "cell_type": "markdown",
      "source": [
        "Para que funcione, debes usar un paso negativo (El paso negativo invierte el orden del recorrido, recorre de atrás hacia adelante):"
      ],
      "metadata": {
        "id": "rCOlPGvqB7E1"
      }
    },
    {
      "cell_type": "code",
      "source": [
        "for i in range(20, 0, -2):\n",
        "    print(i)"
      ],
      "metadata": {
        "colab": {
          "base_uri": "https://localhost:8080/"
        },
        "id": "RQT91FfVB-GP",
        "outputId": "bfed31d4-75ef-4962-f106-570e9be2431c"
      },
      "execution_count": null,
      "outputs": [
        {
          "output_type": "stream",
          "name": "stdout",
          "text": [
            "20\n",
            "18\n",
            "16\n",
            "14\n",
            "12\n",
            "10\n",
            "8\n",
            "6\n",
            "4\n",
            "2\n"
          ]
        }
      ]
    },
    {
      "cell_type": "markdown",
      "metadata": {
        "id": "yp8rkh-AJOJp"
      },
      "source": [
        "**Ejercicio práctico:**\n",
        "Crea un programa que imprima la tabla de multiplicar de un número ingresado por el usuario usando un bucle `for`.\n"
      ]
    },
    {
      "cell_type": "code",
      "metadata": {
        "id": "sypIldWlJwuv",
        "colab": {
          "base_uri": "https://localhost:8080/"
        },
        "outputId": "dd4f9114-26d1-4329-a9ad-5fba0524429b"
      },
      "source": [
        "# Escribe tu código aquí\n",
        "for i in range(1, 11):\n",
        "  for j in range(1, 11):\n",
        "    print(f\"({i}*{j} = {i*j} )\", end= \" \")\n",
        "  print()"
      ],
      "execution_count": 13,
      "outputs": [
        {
          "output_type": "stream",
          "name": "stdout",
          "text": [
            "(1*1 = 1 ) (1*2 = 2 ) (1*3 = 3 ) (1*4 = 4 ) (1*5 = 5 ) (1*6 = 6 ) (1*7 = 7 ) (1*8 = 8 ) (1*9 = 9 ) (1*10 = 10 ) \n",
            "(2*1 = 2 ) (2*2 = 4 ) (2*3 = 6 ) (2*4 = 8 ) (2*5 = 10 ) (2*6 = 12 ) (2*7 = 14 ) (2*8 = 16 ) (2*9 = 18 ) (2*10 = 20 ) \n",
            "(3*1 = 3 ) (3*2 = 6 ) (3*3 = 9 ) (3*4 = 12 ) (3*5 = 15 ) (3*6 = 18 ) (3*7 = 21 ) (3*8 = 24 ) (3*9 = 27 ) (3*10 = 30 ) \n",
            "(4*1 = 4 ) (4*2 = 8 ) (4*3 = 12 ) (4*4 = 16 ) (4*5 = 20 ) (4*6 = 24 ) (4*7 = 28 ) (4*8 = 32 ) (4*9 = 36 ) (4*10 = 40 ) \n",
            "(5*1 = 5 ) (5*2 = 10 ) (5*3 = 15 ) (5*4 = 20 ) (5*5 = 25 ) (5*6 = 30 ) (5*7 = 35 ) (5*8 = 40 ) (5*9 = 45 ) (5*10 = 50 ) \n",
            "(6*1 = 6 ) (6*2 = 12 ) (6*3 = 18 ) (6*4 = 24 ) (6*5 = 30 ) (6*6 = 36 ) (6*7 = 42 ) (6*8 = 48 ) (6*9 = 54 ) (6*10 = 60 ) \n",
            "(7*1 = 7 ) (7*2 = 14 ) (7*3 = 21 ) (7*4 = 28 ) (7*5 = 35 ) (7*6 = 42 ) (7*7 = 49 ) (7*8 = 56 ) (7*9 = 63 ) (7*10 = 70 ) \n",
            "(8*1 = 8 ) (8*2 = 16 ) (8*3 = 24 ) (8*4 = 32 ) (8*5 = 40 ) (8*6 = 48 ) (8*7 = 56 ) (8*8 = 64 ) (8*9 = 72 ) (8*10 = 80 ) \n",
            "(9*1 = 9 ) (9*2 = 18 ) (9*3 = 27 ) (9*4 = 36 ) (9*5 = 45 ) (9*6 = 54 ) (9*7 = 63 ) (9*8 = 72 ) (9*9 = 81 ) (9*10 = 90 ) \n",
            "(10*1 = 10 ) (10*2 = 20 ) (10*3 = 30 ) (10*4 = 40 ) (10*5 = 50 ) (10*6 = 60 ) (10*7 = 70 ) (10*8 = 80 ) (10*9 = 90 ) (10*10 = 100 ) \n"
          ]
        }
      ]
    },
    {
      "cell_type": "markdown",
      "metadata": {
        "id": "7QPwAC7BJOJp"
      },
      "source": [
        "## 3️⃣ Bucles anidados\n",
        "Un bucle dentro de otro bucle.\n",
        "\n",
        "🔹 **Ejemplo:** Imprimir un patrón de asteriscos.\n"
      ]
    },
    {
      "cell_type": "code",
      "metadata": {
        "colab": {
          "base_uri": "https://localhost:8080/"
        },
        "id": "JWWiPG3nJOJp",
        "outputId": "d7f6aa1f-4a56-4068-b732-ef31f7bfe31a"
      },
      "source": [
        "for i in range(1, 4):\n",
        "    for j in range(1, 4):\n",
        "        print(f\"({i},{j})\", end=\" \")\n",
        "    print()"
      ],
      "execution_count": null,
      "outputs": [
        {
          "output_type": "stream",
          "name": "stdout",
          "text": [
            "(1,1) (1,2) (1,3) \n",
            "(2,1) (2,2) (2,3) \n",
            "(3,1) (3,2) (3,3) \n"
          ]
        }
      ]
    },
    {
      "cell_type": "markdown",
      "source": [
        "**Visualización:**\n",
        "[python tutor](https://pythontutor.com/render.html#code=for%20i%20in%20range%281,%204%29%3A%0A%20%20%20%20for%20j%20in%20range%281,%204%29%3A%0A%20%20%20%20%20%20%20%20print%28f%22%28%7Bi%7D,%7Bj%7D%29%22,%20end%3D%22%20%22%29%0A%20%20%20%20print%28%29&cumulative=false&curInstr=0&heapPrimitives=nevernest&mode=display&origin=opt-frontend.js&py=3&rawInputLstJSON=%5B%5D&textReferences=false)"
      ],
      "metadata": {
        "id": "AkZ6d5IdpFBA"
      }
    },
    {
      "cell_type": "markdown",
      "metadata": {
        "id": "ylydXOX1JOJp"
      },
      "source": [
        "**Ejercicio práctico:**\n",
        "Crea un programa que dibuje un cuadrado de `#` con un tamaño ingresado por el usuario.\n"
      ]
    },
    {
      "cell_type": "code",
      "metadata": {
        "id": "gqZAntLtJxaD",
        "colab": {
          "base_uri": "https://localhost:8080/"
        },
        "outputId": "4937b4e6-9697-4b8a-c0e6-58b32f733024"
      },
      "source": [
        "# Escribe tu código aquí\n",
        "\n",
        "for i in range(1, 6):\n",
        "  i = \"#\" * 4\n",
        "for j in range(1, 6):\n",
        "  j = '#'\n",
        "  print(f\"{i}{j}\", end=\" \")\n",
        "  print()"
      ],
      "execution_count": 45,
      "outputs": [
        {
          "output_type": "stream",
          "name": "stdout",
          "text": [
            "##### \n",
            "##### \n",
            "##### \n",
            "##### \n",
            "##### \n"
          ]
        }
      ]
    },
    {
      "cell_type": "markdown",
      "metadata": {
        "id": "tmsLmcZUJOJp"
      },
      "source": [
        "## 4️⃣ Sentencias `break` y `continue`\n",
        "- `break`: Detiene el bucle por completo.\n",
        "- `continue`: Salta a la siguiente iteración.\n",
        "\n",
        "🔹 **Ejemplo:**\n"
      ]
    },
    {
      "cell_type": "code",
      "metadata": {
        "colab": {
          "base_uri": "https://localhost:8080/"
        },
        "id": "Yqg6HcKuJOJq",
        "outputId": "210a3165-1c54-4882-842c-337b38abffc3"
      },
      "source": [
        "for numero in range(1, 10):\n",
        "    if numero == 5:\n",
        "        break  # Detiene el bucle al llegar a 5\n",
        "    print(numero)\n",
        "\n",
        "print(\"\\n---\\n\")\n",
        "\n",
        "for numero in range(1, 10):\n",
        "    if numero == 5:\n",
        "        continue  # Salta el 5\n",
        "    print(numero)"
      ],
      "execution_count": null,
      "outputs": [
        {
          "output_type": "stream",
          "name": "stdout",
          "text": [
            "1\n",
            "2\n",
            "3\n",
            "4\n",
            "\n",
            "---\n",
            "\n",
            "1\n",
            "2\n",
            "3\n",
            "4\n",
            "6\n",
            "7\n",
            "8\n",
            "9\n"
          ]
        }
      ]
    },
    {
      "cell_type": "markdown",
      "metadata": {
        "id": "4VmjJRiPJOJq"
      },
      "source": [
        "**Ejercicio práctico:**\n",
        "Usa un bucle para imprimir números del 1 al 20, pero salta los múltiplos de 3 y detente si llegas a 17.\n"
      ]
    },
    {
      "cell_type": "code",
      "metadata": {
        "id": "toX1AfByJyCz",
        "colab": {
          "base_uri": "https://localhost:8080/"
        },
        "outputId": "b960bf03-d554-4a92-f343-9bfd19c7c85e"
      },
      "source": [
        "# Escribe tu código aquí\n",
        "for i in range(1, 21):\n",
        "  if i % 3 == 0: continue\n",
        "  if i == 17: break\n",
        "  print(i)"
      ],
      "execution_count": 65,
      "outputs": [
        {
          "output_type": "stream",
          "name": "stdout",
          "text": [
            "1\n",
            "2\n",
            "4\n",
            "5\n",
            "7\n",
            "8\n",
            "10\n",
            "11\n",
            "13\n",
            "14\n",
            "16\n"
          ]
        }
      ]
    },
    {
      "cell_type": "markdown",
      "metadata": {
        "id": "bsd5TeboJOJq"
      },
      "source": [
        "## 💡 Tips y Datos Curiosos\n",
        "- Un `while` puede usarse para esperar a que suceda un evento.\n",
        "- Un `for` es más eficiente cuando sabemos cuántas iteraciones hacer.\n",
        "- `break` y `continue` ayudan a optimizar la ejecución.\n",
        "- Python también soporta el `else` en los bucles.\n"
      ]
    },
    {
      "cell_type": "markdown",
      "source": [
        "## 🕹 Para practicar\n",
        "\n",
        "\n",
        "*   [https://reeborg.ca/reeborg.html](https://reeborg.ca/reeborg.html?lang=en&mode=python&menu=worlds%2Fmenus%2Fchallenges_en.json&name=Sorting%3A%201a&url=worlds%2Fchallenges_en%2Fsort1a.json)\n",
        "* [https://blockly.games/turtle](https://https://blockly.games/turtle?lang=en)\n"
      ],
      "metadata": {
        "id": "M5DhZBf-jLTB"
      }
    },
    {
      "cell_type": "markdown",
      "source": [
        "## 🖊 Ejercicios"
      ],
      "metadata": {
        "id": "ZM0yOGolCNVg"
      }
    },
    {
      "cell_type": "markdown",
      "source": [
        "#### a) Diseña un programa que calcule:\n",
        "\n",
        "$$\\sum_{i=n}^{m} i$$\n",
        "\n",
        "donde $n$ y $m$ son números enteros que se ingresan por teclado. Debes garantizar que si sean enteros y en caso de que $n>m$ mostrar un error que indique que $m$ debe ser mayor y solicite nuevamente los datos.\n",
        "\n",
        "_Este ejercicio es doble. Debes hacer dos versiones: una con `while` y otra con `for`._"
      ],
      "metadata": {
        "id": "eBjtO-fOIjLC"
      }
    },
    {
      "cell_type": "code",
      "source": [
        "\"\"\"\n",
        "Aquí debajo escribe tu solución\n",
        "\"\"\"\n",
        "\n"
      ],
      "metadata": {
        "id": "XwUkgBC7CNVj"
      },
      "execution_count": null,
      "outputs": []
    },
    {
      "cell_type": "markdown",
      "source": [
        "#### b) Diseña un programa que calcule:\n",
        "\n",
        "$$\\sum_{i=n}^{m} i^{2}$$\n",
        "\n",
        "donde $n$ y $m$ son números enteros que se ingresan por teclado. Debes garantizar las mismas condiciones que el punto anterior.\n",
        "\n",
        "_Este ejercicio es doble. Debes hacer dos versiones: una con `while` y otra con `for`._"
      ],
      "metadata": {
        "id": "K2m96ngBLw54"
      }
    },
    {
      "cell_type": "code",
      "source": [
        "\"\"\"\n",
        "Aquí debajo escribe tu solución\n",
        "\"\"\"\n",
        "\n"
      ],
      "metadata": {
        "id": "-zI4SW-mLw55"
      },
      "execution_count": null,
      "outputs": []
    },
    {
      "cell_type": "markdown",
      "source": [
        "#### c) Diseña un programa que calcule el número de combinaciones tomando $m$ elementos de un conjunto de $n$ elementos:\n",
        "\n",
        "$$C_{m}^{n} = \\frac{n!}{(n-m)! \\; m!}$$\n",
        "\n",
        "donde $n$ y $m$ son ingresados por el usuario y deben satisfacer $n \\geq m$.\n",
        "\n",
        "_Este ejercicio es doble. Debes hacer dos versiones: una con `while` y otra con `for`._"
      ],
      "metadata": {
        "id": "wyslxrLWJkco"
      }
    },
    {
      "cell_type": "code",
      "source": [
        "\"\"\"\n",
        "Aquí debajo escribe tu solución\n",
        "\"\"\"\n",
        "\n"
      ],
      "metadata": {
        "id": "a7beqkIUJkco"
      },
      "execution_count": null,
      "outputs": []
    }
  ],
  "metadata": {
    "colab": {
      "provenance": [],
      "include_colab_link": true
    },
    "kernelspec": {
      "display_name": "Python 3",
      "language": "python",
      "name": "python3"
    }
  },
  "nbformat": 4,
  "nbformat_minor": 0
}